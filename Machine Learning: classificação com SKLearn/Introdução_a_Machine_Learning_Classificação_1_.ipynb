{
  "nbformat": 4,
  "nbformat_minor": 0,
  "metadata": {
    "colab": {
      "provenance": [],
      "collapsed_sections": [],
      "authorship_tag": "ABX9TyMoOPIYdiR8DZh5QgEgcxzZ",
      "include_colab_link": true
    },
    "kernelspec": {
      "name": "python3",
      "display_name": "Python 3"
    },
    "language_info": {
      "name": "python"
    }
  },
  "cells": [
    {
      "cell_type": "markdown",
      "metadata": {
        "id": "view-in-github",
        "colab_type": "text"
      },
      "source": [
        "<a href=\"https://colab.research.google.com/github/MataiasCost/Alura-Curso/blob/main/Machine%20Learning%3A%20classifica%C3%A7%C3%A3o%20com%20SKLearn/Introdu%C3%A7%C3%A3o_a_Machine_Learning_Classifica%C3%A7%C3%A3o_1_.ipynb\" target=\"_parent\"><img src=\"https://colab.research.google.com/assets/colab-badge.svg\" alt=\"Open In Colab\"/></a>"
      ]
    },
    {
      "cell_type": "code",
      "execution_count": null,
      "metadata": {
        "id": "Kd5O6AwRerKp"
      },
      "outputs": [],
      "source": [
        "#features dos porcos:\n",
        "#[largura do pelo, 0 = curto, 1 = longo\n",
        "#tamanho da perna, 0 = longo, 1 = curto\n",
        "#se faz \"AuAu\", 0 = nao, 1 = sim\n",
        "porco1 = [0,1,0]\n",
        "porco2 = [0,1,1]\n",
        "porco3 = [1,1,0]\n",
        "cachorro1 = [0,1,1]\n",
        "cachorro2 = [1,0,1]\n",
        "cachorro3 = [1,1,1]\n",
        "\n",
        "treino_x = [porco1, porco2, porco3, cachorro1, cachorro2, cachorro3]\n",
        "\n",
        "#Classificação 0 = porco, 1 = cachorro\n",
        "treino_y = [1,1,1,0,0,0] # classes ou labels;\n"
      ]
    },
    {
      "cell_type": "code",
      "source": [
        "#Importanto um modelo de classificação do sklearn\n",
        "from sklearn.svm import LinearSVC\n",
        "#criando o modelo\n",
        "model = LinearSVC()\n",
        "#treinando/ajustando o modelo\n",
        "model.fit(treino_x,treino_y)"
      ],
      "metadata": {
        "colab": {
          "base_uri": "https://localhost:8080/"
        },
        "id": "-drq6dUsjrFn",
        "outputId": "64e43866-5567-4f4a-f35d-c19591099b9a"
      },
      "execution_count": null,
      "outputs": [
        {
          "output_type": "execute_result",
          "data": {
            "text/plain": [
              "LinearSVC()"
            ]
          },
          "metadata": {},
          "execution_count": 3
        }
      ]
    },
    {
      "cell_type": "code",
      "source": [
        "#Dado um animal qualquer:\n",
        "animal_misterioso = [1,1,1]\n",
        "#Usamos o modelo para predizer se o animal é cachorro = 0 ou porco = 1\n",
        "model.predict([animal_misterioso])"
      ],
      "metadata": {
        "colab": {
          "base_uri": "https://localhost:8080/"
        },
        "id": "EeE9yv5Mn7jo",
        "outputId": "40750bc3-5533-41aa-f584-fe1c6ded8b97"
      },
      "execution_count": null,
      "outputs": [
        {
          "output_type": "execute_result",
          "data": {
            "text/plain": [
              "array([0])"
            ]
          },
          "metadata": {},
          "execution_count": 4
        }
      ]
    },
    {
      "cell_type": "code",
      "source": [
        "misterio1=[1,1,1]\n",
        "misterio2=[1,1,0]\n",
        "misterio3=[0,1,1]\n",
        "\n",
        "teste_x = [misterio1, misterio2, misterio3]\n",
        "testes_y = [0,1,1]"
      ],
      "metadata": {
        "id": "j-t_CAH5obnA"
      },
      "execution_count": null,
      "outputs": []
    },
    {
      "cell_type": "code",
      "source": [
        "#supondo que a resposta seja:\n",
        "testes_y = [0,1,1]\n",
        "previsoes = model.predict(teste_x)\n"
      ],
      "metadata": {
        "id": "SJJ_9EyApWEI"
      },
      "execution_count": null,
      "outputs": []
    },
    {
      "cell_type": "code",
      "source": [
        "previsoes == testes_y\n",
        "corretos = (previsoes == testes_y).sum()\n",
        "total = len(previsoes)\n",
        "taxa_de_acerto = corretos/total\n",
        "print(\"Taxa de acerto:\",taxa_de_acerto*100) "
      ],
      "metadata": {
        "colab": {
          "base_uri": "https://localhost:8080/"
        },
        "id": "ed1EnDq3p0qf",
        "outputId": "344773c8-c109-4c25-eeeb-189833ebd603"
      },
      "execution_count": null,
      "outputs": [
        {
          "output_type": "stream",
          "name": "stdout",
          "text": [
            "Taxa de acerto: 66.66666666666666\n"
          ]
        }
      ]
    },
    {
      "cell_type": "code",
      "source": [
        "from sklearn.metrics import accuracy_score\n",
        "\n",
        "taxa_de_acerto = accuracy_score(testes_y,previsoes)\n",
        "print(taxa_de_acerto)"
      ],
      "metadata": {
        "colab": {
          "base_uri": "https://localhost:8080/"
        },
        "id": "gpUXLQANp6Wx",
        "outputId": "dee47bcc-4a92-45f7-90dc-2ec178caa8bc"
      },
      "execution_count": null,
      "outputs": [
        {
          "output_type": "stream",
          "name": "stdout",
          "text": [
            "0.6666666666666666\n"
          ]
        }
      ]
    },
    {
      "cell_type": "code",
      "source": [],
      "metadata": {
        "id": "yLDuy73ttIFZ"
      },
      "execution_count": null,
      "outputs": []
    }
  ]
}